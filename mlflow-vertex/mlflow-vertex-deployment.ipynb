{
 "cells": [
  {
   "cell_type": "code",
   "execution_count": null,
   "id": "8ae80b7c",
   "metadata": {},
   "outputs": [],
   "source": [
    "# import packages\n",
    "import mlflow\n",
    "from mlflow.deployments import get_deploy_client\n",
    "from sklearn.model_selection import train_test_split\n",
    "from sklearn.datasets import load_diabetes \n",
    "from sklearn.ensemble import RandomForestRegressor"
   ]
  },
  {
   "cell_type": "code",
   "execution_count": null,
   "id": "e3e58a35",
   "metadata": {},
   "outputs": [],
   "source": [
    "# Start local MLFlow server on CLI with SQLLite DB for model registry\n",
    "# mlflow server \\\n",
    "#     --backend-store-uri sqlite:///mlflow.db \\\n",
    "#     --default-artifact-root ./artifacts \\\n",
    "#     --host 0.0.0.0"
   ]
  },
  {
   "cell_type": "code",
   "execution_count": null,
   "id": "c2f78b68",
   "metadata": {},
   "outputs": [],
   "source": [
    "# set mlflow registry and tracking URIs\n",
    "mlflow.set_tracking_uri(\"http://localhost:5000\")\n",
    "mlflow.set_registry_uri(\"http://localhost:5000\")\n",
    " \n",
    "mr_uri = mlflow.get_registry_uri()\n",
    "print(\"Current registry uri: {}\".format(mr_uri))\n",
    "tracking_uri = mlflow.get_tracking_uri()\n",
    "print(\"Current tracking uri: {}\".format(tracking_uri))"
   ]
  },
  {
   "cell_type": "code",
   "execution_count": null,
   "id": "c6005dd9",
   "metadata": {},
   "outputs": [],
   "source": [
    "# load dataset\n",
    "db = load_diabetes()\n",
    "X = db.data\n",
    "y = db.target\n",
    "X_train, X_test, y_train, y_test = train_test_split(X, y)\n",
    " \n",
    "# Enable autolog()\n",
    "# mlflow.sklearn.autolog() requires mlflow 1.11.0 or above.\n",
    "mlflow.sklearn.autolog()\n",
    " \n",
    "# With autolog() enabled, all model parameters, a model score, and the fitted model are automatically logged.  \n",
    "with mlflow.start_run() as run:  \n",
    "  # Set the model parameters. \n",
    "  n_estimators = 100\n",
    "  max_depth = 6\n",
    "  max_features = 3\n",
    "  # Create and train model.\n",
    "  rf = RandomForestRegressor(n_estimators = n_estimators, max_depth = max_depth, max_features = max_features)\n",
    "  rf.fit(X_train, y_train)\n",
    "  # Use the model to make predictions on the test dataset.\n",
    "  predictions = rf.predict(X_test)"
   ]
  },
  {
   "cell_type": "code",
   "execution_count": null,
   "id": "ab2fe324",
   "metadata": {},
   "outputs": [],
   "source": [
    "# log model\n",
    "model_name = \"mchrestkha-sklearn\"\n",
    "mlflow.sklearn.log_model(rf, model_name, registered_model_name=model_name)"
   ]
  },
  {
   "cell_type": "code",
   "execution_count": null,
   "id": "efdf6e25",
   "metadata": {},
   "outputs": [],
   "source": [
    "client = mlflow.tracking.MlflowClient()\n",
    "client.list_registered_models()"
   ]
  },
  {
   "cell_type": "code",
   "execution_count": null,
   "id": "b3f57857",
   "metadata": {},
   "outputs": [],
   "source": [
    "# deploy model to Vertex AI\n",
    "client = mlflow.deployments.get_deploy_client(\"google_cloud\")\n",
    " \n",
    "model_version = 1\n",
    "model_uri=f\"models:/{model_name}/{model_version}\"\n",
    "print(model_uri)\n",
    " \n",
    "deployment = client.create_deployment(\n",
    "    name=\"mlflow_on_gcp\",\n",
    "    model_uri=model_uri)"
   ]
  }
 ],
 "metadata": {
  "environment": {
   "name": "common-cpu.m78",
   "type": "gcloud",
   "uri": "gcr.io/deeplearning-platform-release/base-cpu:m78"
  },
  "kernelspec": {
   "display_name": "Python 3",
   "language": "python",
   "name": "python3"
  },
  "language_info": {
   "codemirror_mode": {
    "name": "ipython",
    "version": 3
   },
   "file_extension": ".py",
   "mimetype": "text/x-python",
   "name": "python",
   "nbconvert_exporter": "python",
   "pygments_lexer": "ipython3",
   "version": "3.7.10"
  }
 },
 "nbformat": 4,
 "nbformat_minor": 5
}
