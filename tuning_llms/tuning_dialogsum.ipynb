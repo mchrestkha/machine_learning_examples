{
 "cells": [
  {
   "cell_type": "markdown",
   "id": "bf8ec3e0-c954-48a8-95a5-0e5c2d320841",
   "metadata": {},
   "source": [
    "## Library Imports"
   ]
  },
  {
   "cell_type": "code",
   "execution_count": null,
   "id": "b25bef4f-3262-4d94-879e-36a0c50eaf82",
   "metadata": {
    "tags": []
   },
   "outputs": [],
   "source": [
    "from datasets import load_dataset\n",
    "import random\n",
    "import time\n",
    "import vertexai\n",
    "from vertexai.preview.tuning import sft\n",
    "import json\n",
    "import utils\n",
    "import mercury as mr\n",
    "import openai\n",
    "import os"
   ]
  },
  {
   "cell_type": "markdown",
   "id": "9e4899ea-e1c1-4802-84f2-c5143b32f837",
   "metadata": {},
   "source": [
    "## Loading Dataset From HuggingFace"
   ]
  },
  {
   "cell_type": "code",
   "execution_count": null,
   "id": "d12921cc-be7f-49e2-8383-d5d43dd4dda6",
   "metadata": {
    "tags": []
   },
   "outputs": [],
   "source": [
    "dataset = load_dataset(\"knkarthick/dialogsum\")\n",
    "print(dataset)"
   ]
  },
  {
   "cell_type": "code",
   "execution_count": null,
   "id": "f608e323-3600-47c9-8db2-2e3f5216ebdb",
   "metadata": {
    "tags": []
   },
   "outputs": [],
   "source": [
    "train=dataset[\"train\"].to_list()\n",
    "validation =dataset[\"validation\"].to_list()"
   ]
  },
  {
   "cell_type": "markdown",
   "id": "bda92d07-c449-4316-ad64-6c746ba33367",
   "metadata": {
    "tags": []
   },
   "source": [
    "## Gemini 1.5 Tuning"
   ]
  },
  {
   "cell_type": "code",
   "execution_count": null,
   "id": "2ede43b5-4442-4333-9aa8-329e8714bb9a",
   "metadata": {
    "tags": []
   },
   "outputs": [],
   "source": [
    "#Prepare data for Gemini 1.5 Tuning\n",
    "# Define a base prompt for zero-shot summarization \n",
    "base_prompt_zero_shot=\"Summarize the dialogue:\"\n",
    "\n",
    "# Initialize lists to store messages for training and validation\n",
    "train_messages = []\n",
    "validation_messages = []\n",
    "\n",
    "# Iterate over training data and create messages for each dialogue-summary pair\n",
    "for d in train:\n",
    "  prompts=[]\n",
    "  prompts.append({\"role\": \"user\", \"parts\": [{\"text\": d[\"dialogue\"]}]})\n",
    "  prompts.append({\"role\": \"model\", \"parts\": [{\"text\": d[\"summary\"]}]}) \n",
    "  train_messages.append({'contents': prompts})\n",
    "\n",
    "# Iterate over validation data and create messages similarly\n",
    "for d in validation:\n",
    "  prompts=[]\n",
    "  prompts.append({\"role\": \"user\", \"parts\": [{\"text\": d[\"dialogue\"]}]})\n",
    "  prompts.append({\"role\": \"model\", \"parts\": [{\"text\": d[\"summary\"]}]}) \n",
    "  validation_messages.append({'contents': prompts})\n",
    "\n",
    "# Print lengths of message lists and an example training message\n",
    "len(train_messages), len(validation_messages), train_messages[2]"
   ]
  },
  {
   "cell_type": "code",
   "execution_count": null,
   "id": "1557d6e9-e38a-4764-8f63-84d310f93e92",
   "metadata": {
    "tags": []
   },
   "outputs": [],
   "source": [
    "# Save to JSON locally\n",
    "utils.dicts_to_jsonl(train_messages, \"dialogsum_train\", False)\n",
    "utils.dicts_to_jsonl(validation_messages, \"dialogsum_valid\", False)"
   ]
  },
  {
   "cell_type": "code",
   "execution_count": null,
   "id": "a0a1e4c1-9b7a-49aa-b92c-0a50f3bf9dbf",
   "metadata": {
    "tags": []
   },
   "outputs": [],
   "source": [
    "# Delete & Overwrite files to upload to GCS\n",
    "\n",
    "utils.delete_blob(\"mchrestkha-sample-data\",\"dialogsum/dialogsum_train.jsonl\")\n",
    "utils.delete_blob(\"mchrestkha-sample-data\",\"dialogsum/dialogsum_valid.jsonl\")\n",
    "utils.upload_blob(\"mchrestkha-sample-data\",\"dialogsum_train.jsonl\",\"dialogsum/dialogsum_train.jsonl\")\n",
    "utils.upload_blob(\"mchrestkha-sample-data\",\"dialogsum_valid.jsonl\",\"dialogsum/dialogsum_valid.jsonl\")"
   ]
  },
  {
   "cell_type": "code",
   "execution_count": null,
   "id": "884a4637-78c2-43d4-aff4-8f6715678566",
   "metadata": {
    "tags": []
   },
   "outputs": [],
   "source": [
    "#Submit Tuning Job\n",
    "\n",
    "timestr = time.strftime(\"%Y%m%d-%H%M%S\")\n",
    "model_name=\"dialogsum\"+timestr\n",
    "print(model_name)\n",
    "\n",
    "vertexai.init(project=\"mchrestkha-sandbox\", location=\"us-central1\")\n",
    "\n",
    "sft_tuning_job = sft.train(\n",
    "    source_model=\"gemini-1.5-flash-001\",\n",
    "    train_dataset=\"gs://mchrestkha-sample-data/dialogsum/dialogsum_train.jsonl\",\n",
    "    # The following parameters are optional\n",
    "    validation_dataset=\"gs://mchrestkha-sample-data/dialogsum/dialogsum_valid.jsonl\",\n",
    "    epochs=5,\n",
    "    adapter_size=4,\n",
    "    learning_rate_multiplier=1.0,\n",
    "    tuned_model_display_name=\"dialogsum\",\n",
    ")"
   ]
  },
  {
   "cell_type": "markdown",
   "id": "2de09063-2454-41d0-9963-3fac8b79966f",
   "metadata": {
    "tags": []
   },
   "source": [
    "## OpenAI Tuning"
   ]
  },
  {
   "cell_type": "code",
   "execution_count": null,
   "id": "708ebb59-e764-453f-bd76-59a2083ff81e",
   "metadata": {
    "tags": []
   },
   "outputs": [],
   "source": [
    "#Prepare data for OpenAI  Tuning\n",
    "# Define a base prompt for zero-shot summarization \n",
    "system_prompt=\"Summarize the dialogue:\"\n",
    "\n",
    "# Initialize lists to store messages for training and validation\n",
    "train_messages = []\n",
    "validation_messages = []\n",
    "\n",
    "# Iterate over training data and create messages for each dialogue-summary pair\n",
    "for d in train:\n",
    "  prompts = []\n",
    "  prompts.append({\"role\": \"system\", \"content\": system_prompt})\n",
    "  prompts.append({\"role\": \"user\", \"content\": d[\"dialogue\"]})\n",
    "  prompts.append({\"role\": \"assistant\", \"content\": d[\"summary\"]})\n",
    "  train_messages.append({'messages': prompts})\n",
    "\n",
    "# Iterate over validation data and create messages similarly\n",
    "for d in validation:\n",
    "  prompts = []\n",
    "  prompts.append({\"role\": \"system\", \"content\": system_prompt})\n",
    "  prompts.append({\"role\": \"user\", \"content\": d[\"dialogue\"]})\n",
    "  prompts.append({\"role\": \"assistant\", \"content\": d[\"summary\"]})\n",
    "  validation_messages.append({'messages': prompts})\n",
    "\n",
    "    # Print lengths of message lists and an example training message\n",
    "len(train_messages), len(validation_messages), train_messages[2]"
   ]
  },
  {
   "cell_type": "code",
   "execution_count": null,
   "id": "bff2af86-efab-4389-ae6b-e9a31e21e5f8",
   "metadata": {
    "tags": []
   },
   "outputs": [],
   "source": [
    "# Save to JSON locally\n",
    "utils.dicts_to_jsonl(train_messages, \"openai_dialogsum_train\", False)\n",
    "utils.dicts_to_jsonl(validation_messages, \"openai_dialogsum_valid\", False)"
   ]
  },
  {
   "cell_type": "code",
   "execution_count": 18,
   "id": "02a32774-8093-4ad1-872c-09d0d7d05a9f",
   "metadata": {
    "tags": []
   },
   "outputs": [],
   "source": [
    "from openai import OpenAI\n",
    "client = OpenAI()"
   ]
  },
  {
   "cell_type": "code",
   "execution_count": 21,
   "id": "7ac72e15-9afe-48ce-847e-255d26dfea90",
   "metadata": {
    "tags": []
   },
   "outputs": [
    {
     "data": {
      "text/plain": [
       "FileObject(id='file-6dP710zFkj7deIIVBlgcAtSa', bytes=504860, created_at=1724279641, filename='openai_dialogsum_valid.jsonl', object='file', purpose='fine-tune', status='processed', status_details=None)"
      ]
     },
     "execution_count": 21,
     "metadata": {},
     "output_type": "execute_result"
    }
   ],
   "source": [
    "# Register & Uplaod Files to OpenAI Storage\n",
    "client.files.create(\n",
    "  file=open(\"openai_dialogsum_train.jsonl\", \"rb\"),\n",
    "  purpose=\"fine-tune\"\n",
    ")\n",
    "\n",
    "client.files.create(\n",
    "  file=open(\"openai_dialogsum_valid.jsonl\", \"rb\"),\n",
    "  purpose=\"fine-tune\"\n",
    ")"
   ]
  },
  {
   "cell_type": "code",
   "execution_count": 24,
   "id": "a90c953a-df68-402a-8ecd-89da6d2d885c",
   "metadata": {
    "tags": []
   },
   "outputs": [
    {
     "data": {
      "text/plain": [
       "FineTuningJob(id='ftjob-EuC6PXka7HAyD9gp5z2EHT6t', created_at=1724279844, error=Error(code=None, message=None, param=None), fine_tuned_model=None, finished_at=None, hyperparameters=Hyperparameters(n_epochs='auto', batch_size='auto', learning_rate_multiplier='auto'), model='gpt-4o-mini-2024-07-18', object='fine_tuning.job', organization_id='org-rt7XBH1XjAWqIfKVhHpllhPn', result_files=[], seed=1406416728, status='validating_files', trained_tokens=None, training_file='file-hn28HMGpYecHguGp3JiVKnrz', validation_file='file-6dP710zFkj7deIIVBlgcAtSa', estimated_finish=None, integrations=[], user_provided_suffix=None)"
      ]
     },
     "execution_count": 24,
     "metadata": {},
     "output_type": "execute_result"
    }
   ],
   "source": [
    "#Submit Tuning Job\n",
    "client.fine_tuning.jobs.create(\n",
    "  training_file=\"file-hn28HMGpYecHguGp3JiVKnrz\", \n",
    "  validation_file=\"file-6dP710zFkj7deIIVBlgcAtSa\",\n",
    "  model=\"gpt-4o-mini-2024-07-18\"\n",
    ")"
   ]
  }
 ],
 "metadata": {
  "environment": {
   "kernel": "conda-root-py",
   "name": "workbench-notebooks.m113",
   "type": "gcloud",
   "uri": "gcr.io/deeplearning-platform-release/workbench-notebooks:m113"
  },
  "kernelspec": {
   "display_name": "Python 3 (ipykernel) (Local)",
   "language": "python",
   "name": "conda-root-py"
  },
  "language_info": {
   "codemirror_mode": {
    "name": "ipython",
    "version": 3
   },
   "file_extension": ".py",
   "mimetype": "text/x-python",
   "name": "python",
   "nbconvert_exporter": "python",
   "pygments_lexer": "ipython3",
   "version": "3.10.13"
  }
 },
 "nbformat": 4,
 "nbformat_minor": 5
}
