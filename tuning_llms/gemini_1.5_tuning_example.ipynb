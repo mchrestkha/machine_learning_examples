{
 "cells": [
  {
   "cell_type": "code",
   "execution_count": null,
   "id": "c7087b40-d110-48d3-8e8e-852109bab99b",
   "metadata": {
    "tags": []
   },
   "outputs": [],
   "source": [
    "#!pip install datasets vertexai mercury"
   ]
  },
  {
   "cell_type": "code",
   "execution_count": null,
   "id": "e4e282f3-c9ac-4ca0-9039-9b20bed1134d",
   "metadata": {
    "tags": []
   },
   "outputs": [],
   "source": [
    "#! gcloud auth list"
   ]
  },
  {
   "cell_type": "code",
   "execution_count": null,
   "id": "9f441437-a6da-4f55-afca-9a57923f10f4",
   "metadata": {
    "tags": []
   },
   "outputs": [],
   "source": [
    "from datasets import load_dataset\n",
    "import random\n",
    "import time\n",
    "import vertexai\n",
    "from vertexai.preview.tuning import sft\n",
    "import json\n",
    "import utils\n",
    "import mercury as mr"
   ]
  },
  {
   "cell_type": "code",
   "execution_count": null,
   "id": "7c70aae2-6b21-4dbd-addf-75f09bf9b702",
   "metadata": {
    "tags": []
   },
   "outputs": [],
   "source": [
    "# Load the data\n",
    "dataset = load_dataset(\"nguha/legalbench\", \"contract_nli_explicit_identification\")\n",
    "\n",
    "# Merge and shuffle\n",
    "data = dataset[\"train\"].to_list() + dataset[\"test\"].to_list()  # Convert to lists before concatenating\n",
    "random.shuffle(data)\n",
    "\n",
    "# Add new index\n",
    "for idx, d in enumerate(data):\n",
    "    d[\"new_index\"] = idx"
   ]
  },
  {
   "cell_type": "code",
   "execution_count": null,
   "id": "7ef891b9-ba74-4fe1-97e8-c35bf13acd48",
   "metadata": {
    "tags": []
   },
   "outputs": [],
   "source": [
    "len(data)\n",
    "mr.JSON(data)"
   ]
  },
  {
   "cell_type": "code",
   "execution_count": null,
   "id": "613f6fae-bd36-4311-9680-32a7c279eb4b",
   "metadata": {
    "tags": []
   },
   "outputs": [],
   "source": [
    "base_prompt_zero_shot = \"Identify if the clause provides that all Confidential Information shall be expressly identified by the Disclosing Party. Answer with only `Yes` or `No`\""
   ]
  },
  {
   "cell_type": "code",
   "execution_count": null,
   "id": "ad2678f7-1695-4285-b5fb-742061dae16f",
   "metadata": {
    "tags": []
   },
   "outputs": [],
   "source": []
  },
  {
   "cell_type": "code",
   "execution_count": null,
   "id": "c8fef0c7-b094-4da7-8b80-3b0ff8ef4ea8",
   "metadata": {
    "tags": []
   },
   "outputs": [],
   "source": [
    "n_train = 30\n",
    "n_test = len(data) - n_train"
   ]
  },
  {
   "cell_type": "code",
   "execution_count": null,
   "id": "97da2b67-fc37-44cf-ba9a-f352eab8f4cd",
   "metadata": {
    "tags": []
   },
   "outputs": [],
   "source": [
    "train_messages = []\n",
    "test_messages = []\n",
    "\n",
    "for d in data:\n",
    "  prompts=[]\n",
    "  prompts = [{\"role\": \"system\", \"parts\": [{\"text\": base_prompt_zero_shot}]}]\n",
    "  prompts.append({\"role\": \"user\", \"parts\": [{\"text\": d[\"text\"]}]})\n",
    "  prompts.append({\"role\": \"model\", \"parts\": [{\"text\": d[\"answer\"]}]}) \n",
    "\n",
    "  if int(d[\"new_index\"]) < n_train:\n",
    "    #train_messages.append({'messages': prompts})\n",
    "    train_messages.append({'contents': prompts})\n",
    "\n",
    "  else:\n",
    "    #test_messages.append({'messages': prompts})\n",
    "    test_messages.append({'contents': prompts})\n",
    "\n",
    "len(train_messages), len(test_messages), n_test, train_messages[5]"
   ]
  },
  {
   "cell_type": "code",
   "execution_count": null,
   "id": "3b765a73-a769-413f-b9b1-81a7f040afbb",
   "metadata": {},
   "outputs": [],
   "source": [
    "for d in data:\n",
    "  tuningdataset=[]\n",
    "  tuningdataset = [{\"role\": \"system\", \"parts\": [{\"text\": system_instructions}]}]\n",
    "  tuningdataset.append({\"role\": \"user\", \"parts\": [{\"text\": d[\"text\"]}]})\n",
    "  tuningdataset.append({\"role\": \"model\", \"parts\": [{\"text\": d[\"answer\"]}]}) \n",
    "  tuningdataset.append({'contents': prompts})"
   ]
  },
  {
   "cell_type": "code",
   "execution_count": null,
   "id": "231130e7-a60c-44f3-a93b-45dd8d986611",
   "metadata": {
    "tags": []
   },
   "outputs": [],
   "source": [
    "utils.dicts_to_jsonl(train_messages, \"train_contents\", False)\n",
    "utils.dicts_to_jsonl(test_messages, \"test_contents\", False)"
   ]
  },
  {
   "cell_type": "code",
   "execution_count": null,
   "id": "0e280382-bda1-4400-965e-b675e9c970ac",
   "metadata": {
    "tags": []
   },
   "outputs": [],
   "source": [
    "#upload_blob(bucket_name, source_file_name, destination_blob_name)\n",
    "#delete_blob(bucket_name, blob_name):\n",
    "utils.delete_blob(\"mchrestkha-sample-data\",\"legalbench/contract_nli_explicit_identification/train_contents.jsonl\")\n",
    "utils.delete_blob(\"mchrestkha-sample-data\",\"legalbench/contract_nli_explicit_identification/test_contents.jsonl\")\n",
    "utils.upload_blob(\"mchrestkha-sample-data\",\"train_contents.jsonl\",\"legalbench/contract_nli_explicit_identification/train_contents.jsonl\")\n",
    "utils.upload_blob(\"mchrestkha-sample-data\",\"test_contents.jsonl\",\"legalbench/contract_nli_explicit_identification/test_contents.jsonl\")"
   ]
  },
  {
   "cell_type": "code",
   "execution_count": null,
   "id": "7e9e0977-ca96-4a8b-a686-4a00e6527fe0",
   "metadata": {
    "tags": []
   },
   "outputs": [],
   "source": [
    "vertexai.init(project=\"mchrestkha-sandbox\", location=\"us-central1\")\n",
    "\n",
    "sft_tuning_job = sft.train(\n",
    "    source_model=\"gemini-1.5-pro-001\",\n",
    "    train_dataset=\"gs://mchrestkha-sample-data/legalbench/contract_nli_explicit_identification/train_contents.jsonl\",\n",
    "    #train_dataset=\"gs://cloud-samples-data/ai-platform/generative_ai/sft_train_data.jsonl\",\n",
    "    # The following parameters are optional\n",
    "    validation_dataset=\"gs://mchrestkha-sample-data/legalbench/contract_nli_explicit_identification/test_contents.jsonl\",\n",
    "    epochs=5,\n",
    "    adapter_size=4,\n",
    "    learning_rate_multiplier=1.0,\n",
    "    tuned_model_display_name=\"1.5_flash_tuned_legalbench_tuned_nli_explicit_identificationv2\",\n",
    ")\n",
    "\n",
    "# Polling for job completion\n",
    "while not sft_tuning_job.has_ended:\n",
    "    time.sleep(60)\n",
    "    sft_tuning_job.refresh()\n",
    "\n",
    "print(sft_tuning_job.tuned_model_name)\n",
    "print(sft_tuning_job.tuned_model_endpoint_name)\n",
    "print(sft_tuning_job.experiment)"
   ]
  },
  {
   "cell_type": "code",
   "execution_count": null,
   "id": "57740801-8130-4332-bf6f-ef586716d708",
   "metadata": {},
   "outputs": [],
   "source": []
  },
  {
   "cell_type": "code",
   "execution_count": null,
   "id": "070036f6-3351-4c29-9fec-2d830ea2283f",
   "metadata": {},
   "outputs": [],
   "source": []
  },
  {
   "cell_type": "code",
   "execution_count": null,
   "id": "ed88e8e3-7887-4a0a-86ed-5f0a6083d4fb",
   "metadata": {},
   "outputs": [],
   "source": [
    "from sklearn.metrics import accuracy_score, f1_score, precision_score, recall_score, classification_report, confusion_matrix"
   ]
  }
 ],
 "metadata": {
  "environment": {
   "kernel": "conda-root-py",
   "name": "workbench-notebooks.m113",
   "type": "gcloud",
   "uri": "gcr.io/deeplearning-platform-release/workbench-notebooks:m113"
  },
  "kernelspec": {
   "display_name": "Python 3 (ipykernel) (Local) (Local)",
   "language": "python",
   "name": "conda-root-py"
  },
  "language_info": {
   "codemirror_mode": {
    "name": "ipython",
    "version": 3
   },
   "file_extension": ".py",
   "mimetype": "text/x-python",
   "name": "python",
   "nbconvert_exporter": "python",
   "pygments_lexer": "ipython3",
   "version": "3.10.13"
  }
 },
 "nbformat": 4,
 "nbformat_minor": 5
}
